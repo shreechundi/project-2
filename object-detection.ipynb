{
 "cells": [
  {
   "cell_type": "code",
   "execution_count": null,
   "id": "71dae148-d85a-4732-8e1b-c1a5b1cbddce",
   "metadata": {},
   "outputs": [],
   "source": [
    "import numpy as np\n",
    "import tensorflow as tf\n",
    "from tensorflow.keras.applications.mobilenet_v2 import MobileNetV2, preprocess_input, decode_predictions\n",
    "from tensorflow.keras.preprocessing import image\n",
    "\n",
    "# Load the MobileNetV2 model with pre-trained weights\n",
    "model = MobileNetV2(weights='imagenet')"
   ]
  },
  {
   "cell_type": "code",
   "execution_count": null,
   "id": "3636fd24-1fda-4980-8550-b600a6956188",
   "metadata": {},
   "outputs": [],
   "source": [
    "def recognize_object(image_path):\n",
    "    # Load image\n",
    "    img = image.load_img(image_path, target_size=(224, 224))\n",
    "\n",
    "    # Convert image to numpy array and preprocess\n",
    "    x = image.img_to_array(img)\n",
    "    x = np.expand_dims(x, axis=0)\n",
    "    x = preprocess_input(x)\n",
    "\n",
    "    # Make prediction\n",
    "    preds = model.predict(x)\n",
    "\n",
    "    # Decode predictions to class names\n",
    "    decoded_preds = decode_predictions(preds, top=3)[0]\n",
    "    for i, (imagenet_id, label, score) in enumerate(decoded_preds):\n",
    "        print(f\"{i + 1}: {label} ({score:.2f})\")"
   ]
  },
  {
   "cell_type": "code",
   "execution_count": null,
   "id": "e96f534f-bbfa-47f2-8f38-7822a32b6233",
   "metadata": {},
   "outputs": [],
   "source": [
    "import os\n",
    "from IPython.display import display, Image"
   ]
  },
  {
   "cell_type": "code",
   "execution_count": null,
   "id": "41f1bce0-d79f-4128-9b3f-35c194873c7b",
   "metadata": {},
   "outputs": [],
   "source": [
    "directory = \"./Test\"\n",
    "count = 0\n",
    "for filename in os.listdir(directory):\n",
    "    f = os.path.join(directory, filename)\n",
    "    # checking if it is a file\n",
    "    if (os.path.isfile(f) and (f[-3]+f[-2]+f[-1]).lower() == \"jpg\"):\n",
    "        display(Image(filename=f))\n",
    "        recognize_object(f)\n",
    "        "
   ]
  }
 ],
 "metadata": {
  "kernelspec": {
   "display_name": "Python 3 (ipykernel)",
   "language": "python",
   "name": "python3"
  },
  "language_info": {
   "codemirror_mode": {
    "name": "ipython",
    "version": 3
   },
   "file_extension": ".py",
   "mimetype": "text/x-python",
   "name": "python",
   "nbconvert_exporter": "python",
   "pygments_lexer": "ipython3",
   "version": "3.11.6"
  }
 },
 "nbformat": 4,
 "nbformat_minor": 5
}
